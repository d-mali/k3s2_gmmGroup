{
 "cells": [
  {
   "cell_type": "code",
   "execution_count": null,
   "metadata": {},
   "outputs": [],
   "source": [
    "# Objective Evaluation\n",
    "# Word Error Rate (WER):\n",
    "\n",
    "# Transcribe the generated audio back to text using an automatic speech recognition (ASR) system.\n",
    "# Compare the transcribed text with the original text to calculate the WER. The model with the lower WER is better."
   ]
  },
  {
   "cell_type": "code",
   "execution_count": 7,
   "metadata": {},
   "outputs": [
    {
     "name": "stdout",
     "output_type": "stream",
     "text": [
      "WER Model 1: 0.16666666666666666\n",
      "WER Model 2: 0.5\n"
     ]
    }
   ],
   "source": [
    "from jiwer import wer\n",
    "\n",
    "original_text = \"The original text from the dataset.\"\n",
    "transcribed_text_model1 = \"The original text from the database.\"\n",
    "transcribed_text_model2 = \"The transcribed text from model 2.\"\n",
    "\n",
    "wer_model1 = wer(original_text, transcribed_text_model1)\n",
    "wer_model2 = wer(original_text, transcribed_text_model2)\n",
    "\n",
    "print(f\"WER Model 1: {wer_model1}\")\n",
    "print(f\"WER Model 2: {wer_model2}\")\n"
   ]
  },
  {
   "cell_type": "code",
   "execution_count": null,
   "metadata": {},
   "outputs": [],
   "source": [
    "# Perceptual Evaluation of Speech Quality (PESQ):\n",
    "\n",
    "# Use PESQ to measure the quality of the speech signals. PESQ compares the generated audio to a reference audio signal and gives a quality score.\n",
    "# Libraries like pypesq can be used for this purpose."
   ]
  },
  {
   "cell_type": "code",
   "execution_count": 10,
   "metadata": {},
   "outputs": [
    {
     "ename": "ValueError",
     "evalue": "The truth value of an array with more than one element is ambiguous. Use a.any() or a.all()",
     "output_type": "error",
     "traceback": [
      "\u001b[1;31m---------------------------------------------------------------------------\u001b[0m",
      "\u001b[1;31mValueError\u001b[0m                                Traceback (most recent call last)",
      "Cell \u001b[1;32mIn[10], line 8\u001b[0m\n\u001b[0;32m      5\u001b[0m rate, gen_audio_model1 \u001b[38;5;241m=\u001b[39m wavfile\u001b[38;5;241m.\u001b[39mread(\u001b[38;5;124mr\u001b[39m\u001b[38;5;124m'\u001b[39m\u001b[38;5;124mC:\u001b[39m\u001b[38;5;124m\\\u001b[39m\u001b[38;5;124mCodeProjects\u001b[39m\u001b[38;5;124m\\\u001b[39m\u001b[38;5;124mUniversity\u001b[39m\u001b[38;5;124m\\\u001b[39m\u001b[38;5;124m3.2_VU\u001b[39m\u001b[38;5;124m\\\u001b[39m\u001b[38;5;124mdeep learning\u001b[39m\u001b[38;5;124m\\\u001b[39m\u001b[38;5;124mgmmGroup\u001b[39m\u001b[38;5;124m\\\u001b[39m\u001b[38;5;124maudioResults\u001b[39m\u001b[38;5;124m\\\u001b[39m\u001b[38;5;124mVitsModel\u001b[39m\u001b[38;5;124m\\\u001b[39m\u001b[38;5;124m07282016HFUUforum_SLASH_07-28-2016_HFUUforum_DOT_mp3_00000.flac.wav\u001b[39m\u001b[38;5;124m'\u001b[39m)\n\u001b[0;32m      6\u001b[0m rate, gen_audio_model2 \u001b[38;5;241m=\u001b[39m wavfile\u001b[38;5;241m.\u001b[39mread(\u001b[38;5;124mr\u001b[39m\u001b[38;5;124m'\u001b[39m\u001b[38;5;124mC:\u001b[39m\u001b[38;5;124m\\\u001b[39m\u001b[38;5;124mCodeProjects\u001b[39m\u001b[38;5;124m\\\u001b[39m\u001b[38;5;124mUniversity\u001b[39m\u001b[38;5;124m\\\u001b[39m\u001b[38;5;124m3.2_VU\u001b[39m\u001b[38;5;124m\\\u001b[39m\u001b[38;5;124mdeep learning\u001b[39m\u001b[38;5;124m\\\u001b[39m\u001b[38;5;124mgmmGroup\u001b[39m\u001b[38;5;124m\\\u001b[39m\u001b[38;5;124maudioResults\u001b[39m\u001b[38;5;124m\\\u001b[39m\u001b[38;5;124mVitsModel\u001b[39m\u001b[38;5;124m\\\u001b[39m\u001b[38;5;124m07282016HFUUforum_SLASH_07-28-2016_HFUUforum_DOT_mp3_00001.flac.wav\u001b[39m\u001b[38;5;124m'\u001b[39m)\n\u001b[1;32m----> 8\u001b[0m pesq_score_model1 \u001b[38;5;241m=\u001b[39m \u001b[43mpesq\u001b[49m\u001b[43m(\u001b[49m\u001b[38;5;241;43m1600\u001b[39;49m\u001b[43m,\u001b[49m\u001b[43m \u001b[49m\u001b[43mref_audio\u001b[49m\u001b[43m,\u001b[49m\u001b[43m \u001b[49m\u001b[43mgen_audio_model1\u001b[49m\u001b[43m,\u001b[49m\u001b[43m \u001b[49m\u001b[38;5;124;43m'\u001b[39;49m\u001b[38;5;124;43mwb\u001b[39;49m\u001b[38;5;124;43m'\u001b[39;49m\u001b[43m)\u001b[49m\n\u001b[0;32m      9\u001b[0m pesq_score_model2 \u001b[38;5;241m=\u001b[39m pesq(\u001b[38;5;241m1600\u001b[39m, ref_audio, gen_audio_model2, \u001b[38;5;124m'\u001b[39m\u001b[38;5;124mwb\u001b[39m\u001b[38;5;124m'\u001b[39m)\n\u001b[0;32m     11\u001b[0m \u001b[38;5;28mprint\u001b[39m(\u001b[38;5;124mf\u001b[39m\u001b[38;5;124m\"\u001b[39m\u001b[38;5;124mPESQ Score Model 1: \u001b[39m\u001b[38;5;132;01m{\u001b[39;00mpesq_score_model1\u001b[38;5;132;01m}\u001b[39;00m\u001b[38;5;124m\"\u001b[39m)\n",
      "File \u001b[1;32mc:\\Users\\dauma\\AppData\\Local\\Programs\\Python\\Python312\\Lib\\site-packages\\pypesq\\__init__.py:19\u001b[0m, in \u001b[0;36mpesq\u001b[1;34m(ref, deg, fs, normalize)\u001b[0m\n\u001b[0;32m     17\u001b[0m \u001b[38;5;28;01mif\u001b[39;00m normalize:\n\u001b[0;32m     18\u001b[0m     ref \u001b[38;5;241m=\u001b[39m ref\u001b[38;5;241m/\u001b[39mnp\u001b[38;5;241m.\u001b[39mmax(np\u001b[38;5;241m.\u001b[39mabs(ref)) \u001b[38;5;28;01mif\u001b[39;00m np\u001b[38;5;241m.\u001b[39mabs(ref) \u001b[38;5;241m>\u001b[39m EPSILON \u001b[38;5;28;01melse\u001b[39;00m ref \n\u001b[1;32m---> 19\u001b[0m     deg \u001b[38;5;241m=\u001b[39m deg\u001b[38;5;241m/\u001b[39mnp\u001b[38;5;241m.\u001b[39mmax(np\u001b[38;5;241m.\u001b[39mabs(deg)) \u001b[38;5;28;01mif\u001b[39;00m np\u001b[38;5;241m.\u001b[39mabs(deg) \u001b[38;5;241m>\u001b[39m EPSILON \u001b[38;5;28;01melse\u001b[39;00m deg\n\u001b[0;32m     21\u001b[0m max_sample \u001b[38;5;241m=\u001b[39m np\u001b[38;5;241m.\u001b[39mmax(np\u001b[38;5;241m.\u001b[39mabs(np\u001b[38;5;241m.\u001b[39marray([ref, deg])))\n\u001b[0;32m     22\u001b[0m \u001b[38;5;28;01mif\u001b[39;00m max_sample \u001b[38;5;241m>\u001b[39m \u001b[38;5;241m1\u001b[39m:\n",
      "\u001b[1;31mValueError\u001b[0m: The truth value of an array with more than one element is ambiguous. Use a.any() or a.all()"
     ]
    }
   ],
   "source": [
    "from pypesq import pesq\n",
    "from scipy.io import wavfile\n",
    "\n",
    "rate, ref_audio = wavfile.read(r'C:\\CodeProjects\\University\\3.2_VU\\deep learning\\gmmGroup\\audioResults\\VitsModel\\07282016HFUUforum_SLASH_07-28-2016_HFUUforum_DOT_mp3_00000.flac.wav')\n",
    "rate, gen_audio_model1 = wavfile.read(r'C:\\CodeProjects\\University\\3.2_VU\\deep learning\\gmmGroup\\audioResults\\VitsModel\\07282016HFUUforum_SLASH_07-28-2016_HFUUforum_DOT_mp3_00000.flac.wav')\n",
    "rate, gen_audio_model2 = wavfile.read(r'C:\\CodeProjects\\University\\3.2_VU\\deep learning\\gmmGroup\\audioResults\\VitsModel\\07282016HFUUforum_SLASH_07-28-2016_HFUUforum_DOT_mp3_00001.flac.wav')\n",
    "\n",
    "pesq_score_model1 = pesq(rate, ref_audio, gen_audio_model1, 'wb')\n",
    "pesq_score_model2 = pesq(rate, ref_audio, gen_audio_model2, 'wb')\n",
    "\n",
    "print(f\"PESQ Score Model 1: {pesq_score_model1}\")\n",
    "print(f\"PESQ Score Model 2: {pesq_score_model2}\")\n"
   ]
  }
 ],
 "metadata": {
  "kernelspec": {
   "display_name": "Python 3",
   "language": "python",
   "name": "python3"
  },
  "language_info": {
   "codemirror_mode": {
    "name": "ipython",
    "version": 3
   },
   "file_extension": ".py",
   "mimetype": "text/x-python",
   "name": "python",
   "nbconvert_exporter": "python",
   "pygments_lexer": "ipython3",
   "version": "3.12.2"
  }
 },
 "nbformat": 4,
 "nbformat_minor": 2
}
