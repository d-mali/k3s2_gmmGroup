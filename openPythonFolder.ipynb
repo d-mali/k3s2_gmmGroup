{
 "cells": [
  {
   "cell_type": "code",
   "execution_count": 2,
   "metadata": {},
   "outputs": [
    {
     "data": {
      "text/plain": [
       "CompletedProcess(args='start cmd /K \"cd /d C:\\\\Users\\\\dauma\\\\AppData\\\\Local\\\\Programs\\\\Python\\\\Python312\"', returncode=0)"
      ]
     },
     "execution_count": 2,
     "metadata": {},
     "output_type": "execute_result"
    }
   ],
   "source": [
    "import os\n",
    "import subprocess\n",
    "\n",
    "cache_file_path = r'C:\\Users\\dauma\\AppData\\Local\\Programs\\Python\\Python312'\n",
    "subprocess.run(f'start cmd /K \"cd /d {os.path.realpath(cache_file_path)}\"', shell=True)"
   ]
  }
 ],
 "metadata": {
  "kernelspec": {
   "display_name": "Python 3",
   "language": "python",
   "name": "python3"
  },
  "language_info": {
   "codemirror_mode": {
    "name": "ipython",
    "version": 3
   },
   "file_extension": ".py",
   "mimetype": "text/x-python",
   "name": "python",
   "nbconvert_exporter": "python",
   "pygments_lexer": "ipython3",
   "version": "3.12.2"
  }
 },
 "nbformat": 4,
 "nbformat_minor": 2
}
