{
 "cells": [
  {
   "cell_type": "code",
   "execution_count": 13,
   "metadata": {},
   "outputs": [
    {
     "name": "stdout",
     "output_type": "stream",
     "text": [
      "Downloaded tar file to c:\\CodeProjects\\University\\3.2_VU\\deep learning\\gmmGroup\\data\\clean_000000.tar\n",
      "Extracted tar file to c:\\CodeProjects\\University\\3.2_VU\\deep learning\\gmmGroup\\data\n",
      "Removed tar file: c:\\CodeProjects\\University\\3.2_VU\\deep learning\\gmmGroup\\data\\clean_000000.tar\n"
     ]
    }
   ],
   "source": [
    "# Get audio files\n",
    "\n",
    "import os\n",
    "import requests\n",
    "import tarfile\n",
    "\n",
    "url = \"https://huggingface.co/datasets/MLCommons/peoples_speech/resolve/main/train/clean/clean_000000.tar\"\n",
    "\n",
    "download_folder = os.path.join(os.path.dirname(os.getcwd()), \"data\")\n",
    "os.makedirs(download_folder, exist_ok=True)\n",
    "tar_path = os.path.join(download_folder, \"clean_000000.tar\")\n",
    "\n",
    "response = requests.get(url, stream=True)\n",
    "if response.status_code == 200:\n",
    "    with open(tar_path, 'wb') as f:\n",
    "        f.write(response.raw.read())\n",
    "    print(f\"Downloaded tar file to {tar_path}\")\n",
    "else:\n",
    "    print(f\"Failed to download file: {response.status_code}\")\n",
    "\n",
    "try:\n",
    "    with tarfile.open(tar_path, \"r\") as tar:\n",
    "        tar.extractall(path=download_folder)\n",
    "    print(f\"Extracted tar file to {download_folder}\")\n",
    "except tarfile.TarError as e:\n",
    "    print(f\"Error extracting tar file: {e}\")\n",
    "\n",
    "try:\n",
    "    os.remove(tar_path)\n",
    "    print(f\"Removed tar file: {tar_path}\")\n",
    "except OSError as e:\n",
    "    print(f\"Error removing tar file: {e}\")"
   ]
  },
  {
   "cell_type": "code",
   "execution_count": 14,
   "metadata": {},
   "outputs": [
    {
     "data": {
      "application/vnd.jupyter.widget-view+json": {
       "model_id": "437bcacb9c9c448893f3b2079774d49b",
       "version_major": 2,
       "version_minor": 0
      },
      "text/plain": [
       "Generating train split: 0 examples [00:00, ? examples/s]"
      ]
     },
     "metadata": {},
     "output_type": "display_data"
    }
   ],
   "source": [
    "from datasets import load_dataset\n",
    "import os\n",
    "\n",
    "dataset = load_dataset(\"json\", data_files=\"clean.json\")\n",
    "\n",
    "# Input arrays\n",
    "\n",
    "textInput = [] \n",
    "audioPathInput = [] \n",
    "\n",
    "for data in dataset['train']['training_data']:\n",
    "    textInput.extend(data['label'])\n",
    "    audioPathInput.extend(data['name'])\n",
    "\n",
    "printInputArrays = False\n",
    "\n",
    "if printInputArrays:\n",
    "    for i in range(len(textInput)):\n",
    "        print(textInput[i])\n",
    "\n",
    "    for i in range(len(audioPathInput)):\n",
    "        print(audioPathInput[i])"
   ]
  },
  {
   "cell_type": "code",
   "execution_count": 16,
   "metadata": {},
   "outputs": [
    {
     "name": "stdout",
     "output_type": "stream",
     "text": [
      "397\n",
      "61\n"
     ]
    },
    {
     "ename": "AssertionError",
     "evalue": "Mismatch between number of texts (397) and audio files (337)",
     "output_type": "error",
     "traceback": [
      "\u001b[1;31m---------------------------------------------------------------------------\u001b[0m",
      "\u001b[1;31mAssertionError\u001b[0m                            Traceback (most recent call last)",
      "Cell \u001b[1;32mIn[16], line 68\u001b[0m\n\u001b[0;32m     66\u001b[0m \u001b[38;5;28mprint\u001b[39m(\u001b[38;5;28mlen\u001b[39m(texts))\n\u001b[0;32m     67\u001b[0m \u001b[38;5;28mprint\u001b[39m(\u001b[38;5;28mlen\u001b[39m(audio_dir))\n\u001b[1;32m---> 68\u001b[0m dataset \u001b[38;5;241m=\u001b[39m \u001b[43mCustomDataset\u001b[49m\u001b[43m(\u001b[49m\u001b[43mtexts\u001b[49m\u001b[43m,\u001b[49m\u001b[43m \u001b[49m\u001b[43maudio_dir\u001b[49m\u001b[43m,\u001b[49m\u001b[43m \u001b[49m\u001b[43mtokenizer\u001b[49m\u001b[43m)\u001b[49m\n\u001b[0;32m     70\u001b[0m \u001b[38;5;66;03m# Load the model\u001b[39;00m\n\u001b[0;32m     71\u001b[0m model \u001b[38;5;241m=\u001b[39m VitsModel\u001b[38;5;241m.\u001b[39mfrom_pretrained(\u001b[38;5;124m\"\u001b[39m\u001b[38;5;124mfacebook/mms-tts-eng\u001b[39m\u001b[38;5;124m\"\u001b[39m)\n",
      "Cell \u001b[1;32mIn[16], line 17\u001b[0m, in \u001b[0;36mCustomDataset.__init__\u001b[1;34m(self, texts, audio_dir, tokenizer, sampling_rate)\u001b[0m\n\u001b[0;32m     14\u001b[0m \u001b[38;5;28mself\u001b[39m\u001b[38;5;241m.\u001b[39msampling_rate \u001b[38;5;241m=\u001b[39m sampling_rate\n\u001b[0;32m     16\u001b[0m \u001b[38;5;66;03m# Ensure the number of texts matches the number of audio files\u001b[39;00m\n\u001b[1;32m---> 17\u001b[0m \u001b[38;5;28;01massert\u001b[39;00m \u001b[38;5;28mlen\u001b[39m(\u001b[38;5;28mself\u001b[39m\u001b[38;5;241m.\u001b[39mtexts) \u001b[38;5;241m==\u001b[39m \u001b[38;5;28mlen\u001b[39m(\u001b[38;5;28mself\u001b[39m\u001b[38;5;241m.\u001b[39maudio_files), \u001b[38;5;124mf\u001b[39m\u001b[38;5;124m\"\u001b[39m\u001b[38;5;124mMismatch between number of texts (\u001b[39m\u001b[38;5;132;01m{\u001b[39;00m\u001b[38;5;28mlen\u001b[39m(\u001b[38;5;28mself\u001b[39m\u001b[38;5;241m.\u001b[39mtexts)\u001b[38;5;132;01m}\u001b[39;00m\u001b[38;5;124m) and audio files (\u001b[39m\u001b[38;5;132;01m{\u001b[39;00m\u001b[38;5;28mlen\u001b[39m(\u001b[38;5;28mself\u001b[39m\u001b[38;5;241m.\u001b[39maudio_files)\u001b[38;5;132;01m}\u001b[39;00m\u001b[38;5;124m)\u001b[39m\u001b[38;5;124m\"\u001b[39m\n",
      "\u001b[1;31mAssertionError\u001b[0m: Mismatch between number of texts (397) and audio files (337)"
     ]
    }
   ],
   "source": [
    "from transformers import VitsModel, AutoTokenizer\n",
    "import torch\n",
    "from torch.utils.data import Dataset, DataLoader\n",
    "from scipy.io.wavfile import read\n",
    "import soundfile as sf\n",
    "from tqdm import tqdm\n",
    "\n",
    "class CustomDataset(Dataset):\n",
    "    def __init__(self, texts, audio_dir, tokenizer, sampling_rate=16000):\n",
    "        self.texts = texts\n",
    "        self.audio_dir = audio_dir\n",
    "        self.audio_files = sorted(os.listdir(audio_dir))\n",
    "        self.tokenizer = tokenizer\n",
    "        self.sampling_rate = sampling_rate\n",
    "\n",
    "        # Ensure the number of texts matches the number of audio files\n",
    "        assert len(self.texts) == len(self.audio_files), f\"Mismatch between number of texts ({len(self.texts)}) and audio files ({len(self.audio_files)})\"\n",
    "\n",
    "    def __len__(self):\n",
    "        return len(self.texts)\n",
    "\n",
    "    def __getitem__(self, idx):\n",
    "        text = self.texts[idx]\n",
    "        audio_path = os.path.join(self.audio_dir, self.audio_files[idx])\n",
    "        \n",
    "        # Read and resample audio\n",
    "        audio, sample_rate = sf.read(audio_path)\n",
    "        if sample_rate != self.sampling_rate:\n",
    "            raise ValueError(f\"Sample rate mismatch: {sample_rate} != {self.sampling_rate}\")\n",
    "        \n",
    "        inputs = self.tokenizer(text, return_tensors=\"pt\")\n",
    "        \n",
    "        return inputs.input_ids.squeeze(), torch.tensor(audio).float()\n",
    "\n",
    "def train_model(model, tokenizer, dataset, device, epochs=10, batch_size=4):\n",
    "    model.train()\n",
    "    dataloader = DataLoader(dataset, batch_size=batch_size, shuffle=True)\n",
    "\n",
    "    optimizer = torch.optim.Adam(model.parameters(), lr=1e-4)\n",
    "    loss_fn = torch.nn.MSELoss()\n",
    "\n",
    "    for epoch in range(epochs):\n",
    "        total_loss = 0\n",
    "        for text_inputs, audio_targets in dataloader:\n",
    "            text_inputs = text_inputs.to(device)\n",
    "            audio_targets = audio_targets.to(device)\n",
    "            \n",
    "            optimizer.zero_grad()\n",
    "            outputs = model(input_ids=text_inputs).waveform\n",
    "            loss = loss_fn(outputs.squeeze(), audio_targets)\n",
    "            loss.backward()\n",
    "            optimizer.step()\n",
    "            \n",
    "            total_loss += loss.item()\n",
    "        \n",
    "        print(f\"Epoch {epoch + 1}/{epochs}, Loss: {total_loss / len(dataloader)}\")\n",
    "\n",
    "# Example list of texts\n",
    "texts = textInput\n",
    "\n",
    "# Define path to your audio data\n",
    "audio_dir = r'C:\\CodeProjects\\University\\3.2_VU\\deep learning\\gmmGroup\\data'\n",
    "\n",
    "# Initialize the tokenizer and dataset\n",
    "tokenizer = AutoTokenizer.from_pretrained(\"facebook/mms-tts-eng\")\n",
    "dataset = CustomDataset(texts, audio_dir, tokenizer)\n",
    "\n",
    "# Load the model\n",
    "model = VitsModel.from_pretrained(\"facebook/mms-tts-eng\")\n",
    "device = 'cuda' if torch.cuda.is_available() else 'cpu'\n",
    "model.to(device)\n",
    "\n",
    "# Train the model\n",
    "train_model(model, tokenizer, dataset, device, epochs=10, batch_size=4)\n"
   ]
  }
 ],
 "metadata": {
  "kernelspec": {
   "display_name": "Python 3",
   "language": "python",
   "name": "python3"
  },
  "language_info": {
   "codemirror_mode": {
    "name": "ipython",
    "version": 3
   },
   "file_extension": ".py",
   "mimetype": "text/x-python",
   "name": "python",
   "nbconvert_exporter": "python",
   "pygments_lexer": "ipython3",
   "version": "3.12.2"
  }
 },
 "nbformat": 4,
 "nbformat_minor": 2
}
