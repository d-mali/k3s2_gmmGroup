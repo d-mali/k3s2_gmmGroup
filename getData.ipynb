{
 "cells": [
  {
   "cell_type": "code",
   "execution_count": 1,
   "metadata": {},
   "outputs": [
    {
     "name": "stderr",
     "output_type": "stream",
     "text": [
      "c:\\Users\\dauma\\AppData\\Local\\Programs\\Python\\Python312\\Lib\\site-packages\\tqdm\\auto.py:21: TqdmWarning: IProgress not found. Please update jupyter and ipywidgets. See https://ipywidgets.readthedocs.io/en/stable/user_install.html\n",
      "  from .autonotebook import tqdm as notebook_tqdm\n",
      "c:\\Users\\dauma\\AppData\\Local\\Programs\\Python\\Python312\\Lib\\site-packages\\datasets\\load.py:1486: FutureWarning: The repository for MLCommons/peoples_speech contains custom code which must be executed to correctly load the dataset. You can inspect the repository content at https://hf.co/datasets/MLCommons/peoples_speech\n",
      "You can avoid this message in future by passing the argument `trust_remote_code=True`.\n",
      "Passing `trust_remote_code=True` will be mandatory to load this dataset from the next major release of `datasets`.\n",
      "  warnings.warn(\n",
      "Downloading builder script: 100%|██████████| 9.98k/9.98k [00:00<?, ?B/s]\n",
      "Downloading readme: 100%|██████████| 6.53k/6.53k [00:00<?, ?B/s]\n",
      "Downloading data: 100%|██████████| 212/212 [00:00<00:00, 94.6kB/s]\n",
      "Downloading data:   0%|          | 20/4481 [01:56<4:21:40,  3.52s/files] "
     ]
    }
   ],
   "source": [
    "from datasets import load_dataset\n",
    "\n",
    "# Load the dataset\n",
    "dataset = load_dataset(\"MLCommons/peoples_speech\")\n",
    "\n",
    "# Optional: specify a download location if you want to store the files in a specific directory\n",
    "download_location = 'C:\\\\CodeProjects\\\\University\\\\3.2_VU\\\\\"deep learning\"\\\\gmmGroup\\\\k3s2_gmmGroup'\n",
    "\n",
    "# Save the dataset as JSON files\n",
    "dataset.save_to_disk(download_location)\n"
   ]
  }
 ],
 "metadata": {
  "kernelspec": {
   "display_name": "Python 3",
   "language": "python",
   "name": "python3"
  },
  "language_info": {
   "codemirror_mode": {
    "name": "ipython",
    "version": 3
   },
   "file_extension": ".py",
   "mimetype": "text/x-python",
   "name": "python",
   "nbconvert_exporter": "python",
   "pygments_lexer": "ipython3",
   "version": "3.12.2"
  }
 },
 "nbformat": 4,
 "nbformat_minor": 2
}
