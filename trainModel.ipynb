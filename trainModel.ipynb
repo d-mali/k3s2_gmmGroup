{
 "cells": [
  {
   "cell_type": "code",
   "execution_count": null,
   "metadata": {},
   "outputs": [],
   "source": [
    "# nedirba cia niekas nes nera dataseto"
   ]
  },
  {
   "cell_type": "code",
   "execution_count": 1,
   "metadata": {},
   "outputs": [],
   "source": [
    "# Acoustic Model\n",
    "\n",
    "import torch\n",
    "import torch.nn as nn\n",
    "import torch.optim as optim\n",
    "\n",
    "class SimpleTTSModel(nn.Module):\n",
    "    def __init__(self):\n",
    "        super(SimpleTTSModel, self).__init__()\n",
    "        self.lstm = nn.LSTM(input_size=128, hidden_size=256, num_layers=2, batch_first=True)\n",
    "        self.output_layer = nn.Linear(256, 80)  # Predicting mel-spectogram with 80 mel bands\n",
    "\n",
    "    def forward(self, x):\n",
    "        x, _ = self.lstm(x)\n",
    "        x = self.output_layer(x)\n",
    "        return x"
   ]
  },
  {
   "cell_type": "code",
   "execution_count": null,
   "metadata": {},
   "outputs": [],
   "source": [
    "# Training loop\n",
    "\n",
    "# Assuming you have a DataLoader providing input sequences and target mel-spectograms\n",
    "model = SimpleTTSModel()\n",
    "criterion = nn.MSELoss()\n",
    "optimizer = optim.Adam(model.parameters(), lr=0.001)\n",
    "\n",
    "for epoch in range(50):  # Runs 50 epochs\n",
    "    for i, (input_sequences, target_spectograms) in enumerate(train_loader):\n",
    "        optimizer.zero_grad()\n",
    "        outputs = model(input_sequences)\n",
    "        loss = criterion(outputs, target_spectograms)\n",
    "        loss.backward()\n",
    "        optimizer.step()\n",
    "        print(f'Epoch [{epoch+1}/50], Loss: {loss.item():.4f}')\n"
   ]
  },
  {
   "cell_type": "code",
   "execution_count": null,
   "metadata": {},
   "outputs": [],
   "source": [
    "# Generating speech\n",
    "\n",
    "import librosa\n",
    "import numpy as np\n",
    "\n",
    "def griffin_lim(spectogram):\n",
    "    angles = np.exp(2j * np.pi * np.random.rand(*spectogram.shape))\n",
    "    S_complex = np.abs(spectogram).astype(np.complex)\n",
    "    y = librosa.istft(S_complex * angles)\n",
    "    for _ in range(100):  # Griffin-Lim iterations\n",
    "        angles = np.exp(1j * np.angle(librosa.stft(y, n_fft=2048)))\n",
    "        y = librosa.istft(S_complex * angles)\n",
    "    return y\n"
   ]
  }
 ],
 "metadata": {
  "kernelspec": {
   "display_name": "Python 3",
   "language": "python",
   "name": "python3"
  },
  "language_info": {
   "codemirror_mode": {
    "name": "ipython",
    "version": 3
   },
   "file_extension": ".py",
   "mimetype": "text/x-python",
   "name": "python",
   "nbconvert_exporter": "python",
   "pygments_lexer": "ipython3",
   "version": "3.12.2"
  }
 },
 "nbformat": 4,
 "nbformat_minor": 2
}
